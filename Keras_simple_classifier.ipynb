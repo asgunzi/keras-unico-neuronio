{
  "nbformat": 4,
  "nbformat_minor": 0,
  "metadata": {
    "colab": {
      "name": "Keras simple classifier.ipynb",
      "provenance": [],
      "collapsed_sections": [],
      "authorship_tag": "ABX9TyODEllU3+yE01u+tQKA/Wtj",
      "include_colab_link": true
    },
    "kernelspec": {
      "name": "python3",
      "display_name": "Python 3"
    },
    "language_info": {
      "name": "python"
    }
  },
  "cells": [
    {
      "cell_type": "markdown",
      "metadata": {
        "id": "view-in-github",
        "colab_type": "text"
      },
      "source": [
        "<a href=\"https://colab.research.google.com/github/asgunzi/keras-unico-neuronio/blob/main/Keras_simple_classifier.ipynb\" target=\"_parent\"><img src=\"https://colab.research.google.com/assets/colab-badge.svg\" alt=\"Open In Colab\"/></a>"
      ]
    },
    {
      "cell_type": "code",
      "metadata": {
        "id": "va7nqJ4_bQHU"
      },
      "source": [
        "Performance = [6.8, 7.9, 9.6, 9.6, 9.4, 7.9, 8.8, 7.9, 5.8, 7.8, 5.9, 6.7, 9.3, 7.9, 6.5, 7.8, 8.0, 6.3, 9.4, 7.4, 9.2, 9.5, 6.8, 5.5, 5.7, 6.2, 5.6, 6.6, 5.5, 5.5]\n",
        "Dificuldade = [8.0, 6.5, 8.4, 5.4, 7.2, 8.5, 8.5, 9.3, 9.3, 8.3, 9.6, 9.1, 8.9, 7.0, 9.1, 8.1, 9.2, 9.1, 6.5, 9.8, 8.9, 5.4, 5.9, 5.6, 5.5, 6.6, 5.4, 7.0, 5.9, 5.4]\n",
        "Resultado = ['Ok', 'Ok', 'Ok', 'Ok', 'Ok', 'Ok', 'Ok', 'Ok', 'Ok', 'Ok', 'Ok', 'Ok', 'Ok', 'Ok', 'Ok', 'Ok', 'Ok', 'Ok', 'Ok', 'Ok', 'Ok', 'Ok', 'Não Ok', 'Não Ok', 'Não Ok', 'Não Ok', 'Não Ok', 'Não Ok', 'Não Ok', 'Não Ok']\n",
        "\n",
        "\n",
        "import numpy as np\n",
        "import matplotlib.pyplot as plt\n",
        "import keras\n",
        "\n",
        "#X = list(zip(Performance, Dificuldade))\n",
        "X=[]\n",
        "for i in range(len(Performance)):\n",
        "  X.append([Performance[i],Dificuldade[i]])\n",
        "\n",
        "#y = [ 0 if x == 'Não Ok' else 1 for x in Resultado]\n",
        "y=[]\n",
        "for x in Resultado:\n",
        "  if x=='Ok':\n",
        "    y.append(1)\n",
        "  else:\n",
        "    y.append(0)\n"
      ],
      "execution_count": 28,
      "outputs": []
    },
    {
      "cell_type": "code",
      "metadata": {
        "id": "LC8ihxjbkzEK",
        "colab": {
          "base_uri": "https://localhost:8080/"
        },
        "outputId": "a8271dac-13b4-45fc-e40c-9f1365c37507"
      },
      "source": [
        "from keras.models import Sequential\n",
        "from keras.layers import Dense\n",
        "from tensorflow import keras\n",
        "from tensorflow.keras import layers\n",
        "\n",
        "import tensorflow\n",
        "\n",
        "print(X)\n",
        "print(y)\n",
        "print(len(y))"
      ],
      "execution_count": 30,
      "outputs": [
        {
          "output_type": "stream",
          "name": "stdout",
          "text": [
            "[[6.8, 8.0], [7.9, 6.5], [9.6, 8.4], [9.6, 5.4], [9.4, 7.2], [7.9, 8.5], [8.8, 8.5], [7.9, 9.3], [5.8, 9.3], [7.8, 8.3], [5.9, 9.6], [6.7, 9.1], [9.3, 8.9], [7.9, 7.0], [6.5, 9.1], [7.8, 8.1], [8.0, 9.2], [6.3, 9.1], [9.4, 6.5], [7.4, 9.8], [9.2, 8.9], [9.5, 5.4], [6.8, 5.9], [5.5, 5.6], [5.7, 5.5], [6.2, 6.6], [5.6, 5.4], [6.6, 7.0], [5.5, 5.9], [5.5, 5.4]]\n",
            "[1, 1, 1, 1, 1, 1, 1, 1, 1, 1, 1, 1, 1, 1, 1, 1, 1, 1, 1, 1, 1, 1, 0, 0, 0, 0, 0, 0, 0, 0]\n",
            "30\n"
          ]
        }
      ]
    },
    {
      "cell_type": "code",
      "metadata": {
        "id": "GUdCpH4ObahD",
        "colab": {
          "base_uri": "https://localhost:8080/"
        },
        "outputId": "df1b56bd-f4ef-49aa-fb85-57ef068a578a"
      },
      "source": [
        "\n",
        "model  = keras.Sequential()\n",
        "model.add(Dense(1, input_dim=2, kernel_initializer='uniform', activation = 'sigmoid'))\n",
        "opt = keras.optimizers.Adam(learning_rate=0.5)\n",
        "model.compile(loss='binary_crossentropy', optimizer=opt, metrics=['accuracy'])\n",
        "\n",
        "model.fit(X,y, epochs =100, batch_size = 10)\n",
        "\n"
      ],
      "execution_count": 31,
      "outputs": [
        {
          "output_type": "stream",
          "name": "stdout",
          "text": [
            "Epoch 1/100\n",
            "3/3 [==============================] - 0s 3ms/step - loss: 1.0505 - accuracy: 0.6667\n",
            "Epoch 2/100\n",
            "3/3 [==============================] - 0s 4ms/step - loss: 1.1542 - accuracy: 0.5333\n",
            "Epoch 3/100\n",
            "3/3 [==============================] - 0s 2ms/step - loss: 0.8716 - accuracy: 0.7333\n",
            "Epoch 4/100\n",
            "3/3 [==============================] - 0s 3ms/step - loss: 1.0029 - accuracy: 0.7333\n",
            "Epoch 5/100\n",
            "3/3 [==============================] - 0s 4ms/step - loss: 0.7595 - accuracy: 0.5333\n",
            "Epoch 6/100\n",
            "3/3 [==============================] - 0s 2ms/step - loss: 0.7249 - accuracy: 0.4667\n",
            "Epoch 7/100\n",
            "3/3 [==============================] - 0s 4ms/step - loss: 0.7274 - accuracy: 0.7333\n",
            "Epoch 8/100\n",
            "3/3 [==============================] - 0s 4ms/step - loss: 0.5794 - accuracy: 0.5333\n",
            "Epoch 9/100\n",
            "3/3 [==============================] - 0s 3ms/step - loss: 0.4628 - accuracy: 0.8333\n",
            "Epoch 10/100\n",
            "3/3 [==============================] - 0s 4ms/step - loss: 0.5437 - accuracy: 0.7333\n",
            "Epoch 11/100\n",
            "3/3 [==============================] - 0s 4ms/step - loss: 0.5383 - accuracy: 0.8000\n",
            "Epoch 12/100\n",
            "3/3 [==============================] - 0s 4ms/step - loss: 0.4777 - accuracy: 0.7333\n",
            "Epoch 13/100\n",
            "3/3 [==============================] - 0s 4ms/step - loss: 0.4795 - accuracy: 0.7333\n",
            "Epoch 14/100\n",
            "3/3 [==============================] - 0s 4ms/step - loss: 0.4980 - accuracy: 0.9000\n",
            "Epoch 15/100\n",
            "3/3 [==============================] - 0s 5ms/step - loss: 0.4641 - accuracy: 0.7333\n",
            "Epoch 16/100\n",
            "3/3 [==============================] - 0s 3ms/step - loss: 0.4621 - accuracy: 0.7333\n",
            "Epoch 17/100\n",
            "3/3 [==============================] - 0s 3ms/step - loss: 0.5041 - accuracy: 0.8667\n",
            "Epoch 18/100\n",
            "3/3 [==============================] - 0s 3ms/step - loss: 0.3750 - accuracy: 0.7667\n",
            "Epoch 19/100\n",
            "3/3 [==============================] - 0s 2ms/step - loss: 0.4231 - accuracy: 0.7333\n",
            "Epoch 20/100\n",
            "3/3 [==============================] - 0s 4ms/step - loss: 0.4435 - accuracy: 0.8667\n",
            "Epoch 21/100\n",
            "3/3 [==============================] - 0s 4ms/step - loss: 0.3155 - accuracy: 0.9000\n",
            "Epoch 22/100\n",
            "3/3 [==============================] - 0s 3ms/step - loss: 0.4183 - accuracy: 0.7667\n",
            "Epoch 23/100\n",
            "3/3 [==============================] - 0s 3ms/step - loss: 0.3342 - accuracy: 0.9333\n",
            "Epoch 24/100\n",
            "3/3 [==============================] - 0s 3ms/step - loss: 0.3127 - accuracy: 0.8667\n",
            "Epoch 25/100\n",
            "3/3 [==============================] - 0s 2ms/step - loss: 0.3304 - accuracy: 0.7667\n",
            "Epoch 26/100\n",
            "3/3 [==============================] - 0s 3ms/step - loss: 0.3498 - accuracy: 0.9667\n",
            "Epoch 27/100\n",
            "3/3 [==============================] - 0s 3ms/step - loss: 0.2583 - accuracy: 0.9000\n",
            "Epoch 28/100\n",
            "3/3 [==============================] - 0s 3ms/step - loss: 0.3309 - accuracy: 0.7333\n",
            "Epoch 29/100\n",
            "3/3 [==============================] - 0s 3ms/step - loss: 0.3073 - accuracy: 0.9667\n",
            "Epoch 30/100\n",
            "3/3 [==============================] - 0s 3ms/step - loss: 0.2624 - accuracy: 1.0000\n",
            "Epoch 31/100\n",
            "3/3 [==============================] - 0s 4ms/step - loss: 0.3823 - accuracy: 0.7667\n",
            "Epoch 32/100\n",
            "3/3 [==============================] - 0s 4ms/step - loss: 0.3118 - accuracy: 0.9667\n",
            "Epoch 33/100\n",
            "3/3 [==============================] - 0s 5ms/step - loss: 0.2965 - accuracy: 0.9667\n",
            "Epoch 34/100\n",
            "3/3 [==============================] - 0s 2ms/step - loss: 0.3221 - accuracy: 0.8000\n",
            "Epoch 35/100\n",
            "3/3 [==============================] - 0s 4ms/step - loss: 0.2528 - accuracy: 0.9667\n",
            "Epoch 36/100\n",
            "3/3 [==============================] - 0s 5ms/step - loss: 0.2489 - accuracy: 0.9333\n",
            "Epoch 37/100\n",
            "3/3 [==============================] - 0s 5ms/step - loss: 0.2759 - accuracy: 0.9000\n",
            "Epoch 38/100\n",
            "3/3 [==============================] - 0s 4ms/step - loss: 0.2323 - accuracy: 0.9333\n",
            "Epoch 39/100\n",
            "3/3 [==============================] - 0s 3ms/step - loss: 0.2382 - accuracy: 0.9000\n",
            "Epoch 40/100\n",
            "3/3 [==============================] - 0s 5ms/step - loss: 0.2290 - accuracy: 0.9000\n",
            "Epoch 41/100\n",
            "3/3 [==============================] - 0s 3ms/step - loss: 0.2755 - accuracy: 0.9667\n",
            "Epoch 42/100\n",
            "3/3 [==============================] - 0s 3ms/step - loss: 0.3314 - accuracy: 0.8000\n",
            "Epoch 43/100\n",
            "3/3 [==============================] - 0s 2ms/step - loss: 0.2634 - accuracy: 0.9333\n",
            "Epoch 44/100\n",
            "3/3 [==============================] - 0s 2ms/step - loss: 0.3055 - accuracy: 0.9333\n",
            "Epoch 45/100\n",
            "3/3 [==============================] - 0s 2ms/step - loss: 0.2662 - accuracy: 0.8333\n",
            "Epoch 46/100\n",
            "3/3 [==============================] - 0s 4ms/step - loss: 0.2557 - accuracy: 0.8667\n",
            "Epoch 47/100\n",
            "3/3 [==============================] - 0s 2ms/step - loss: 0.2946 - accuracy: 0.9333\n",
            "Epoch 48/100\n",
            "3/3 [==============================] - 0s 3ms/step - loss: 0.1991 - accuracy: 0.9667\n",
            "Epoch 49/100\n",
            "3/3 [==============================] - 0s 5ms/step - loss: 0.3027 - accuracy: 0.8667\n",
            "Epoch 50/100\n",
            "3/3 [==============================] - 0s 4ms/step - loss: 0.2078 - accuracy: 1.0000\n",
            "Epoch 51/100\n",
            "3/3 [==============================] - 0s 4ms/step - loss: 0.2164 - accuracy: 0.9667\n",
            "Epoch 52/100\n",
            "3/3 [==============================] - 0s 4ms/step - loss: 0.2314 - accuracy: 0.9000\n",
            "Epoch 53/100\n",
            "3/3 [==============================] - 0s 2ms/step - loss: 0.1955 - accuracy: 0.9667\n",
            "Epoch 54/100\n",
            "3/3 [==============================] - 0s 4ms/step - loss: 0.1765 - accuracy: 0.9333\n",
            "Epoch 55/100\n",
            "3/3 [==============================] - 0s 3ms/step - loss: 0.1724 - accuracy: 0.9667\n",
            "Epoch 56/100\n",
            "3/3 [==============================] - 0s 3ms/step - loss: 0.1719 - accuracy: 0.9667\n",
            "Epoch 57/100\n",
            "3/3 [==============================] - 0s 4ms/step - loss: 0.1792 - accuracy: 0.9667\n",
            "Epoch 58/100\n",
            "3/3 [==============================] - 0s 3ms/step - loss: 0.1711 - accuracy: 0.9333\n",
            "Epoch 59/100\n",
            "3/3 [==============================] - 0s 2ms/step - loss: 0.1886 - accuracy: 0.9000\n",
            "Epoch 60/100\n",
            "3/3 [==============================] - 0s 2ms/step - loss: 0.1756 - accuracy: 0.9667\n",
            "Epoch 61/100\n",
            "3/3 [==============================] - 0s 3ms/step - loss: 0.1721 - accuracy: 0.9667\n",
            "Epoch 62/100\n",
            "3/3 [==============================] - 0s 4ms/step - loss: 0.1665 - accuracy: 0.9667\n",
            "Epoch 63/100\n",
            "3/3 [==============================] - 0s 4ms/step - loss: 0.1620 - accuracy: 0.9333\n",
            "Epoch 64/100\n",
            "3/3 [==============================] - 0s 4ms/step - loss: 0.1916 - accuracy: 0.9667\n",
            "Epoch 65/100\n",
            "3/3 [==============================] - 0s 4ms/step - loss: 0.1892 - accuracy: 0.9000\n",
            "Epoch 66/100\n",
            "3/3 [==============================] - 0s 4ms/step - loss: 0.1601 - accuracy: 0.9333\n",
            "Epoch 67/100\n",
            "3/3 [==============================] - 0s 2ms/step - loss: 0.1719 - accuracy: 0.9667\n",
            "Epoch 68/100\n",
            "3/3 [==============================] - 0s 4ms/step - loss: 0.1669 - accuracy: 0.9667\n",
            "Epoch 69/100\n",
            "3/3 [==============================] - 0s 4ms/step - loss: 0.1667 - accuracy: 0.9667\n",
            "Epoch 70/100\n",
            "3/3 [==============================] - 0s 3ms/step - loss: 0.1442 - accuracy: 0.9667\n",
            "Epoch 71/100\n",
            "3/3 [==============================] - 0s 2ms/step - loss: 0.1591 - accuracy: 0.9667\n",
            "Epoch 72/100\n",
            "3/3 [==============================] - 0s 4ms/step - loss: 0.1592 - accuracy: 0.9000\n",
            "Epoch 73/100\n",
            "3/3 [==============================] - 0s 2ms/step - loss: 0.1634 - accuracy: 0.9667\n",
            "Epoch 74/100\n",
            "3/3 [==============================] - 0s 4ms/step - loss: 0.1737 - accuracy: 0.9333\n",
            "Epoch 75/100\n",
            "3/3 [==============================] - 0s 3ms/step - loss: 0.1647 - accuracy: 0.9000\n",
            "Epoch 76/100\n",
            "3/3 [==============================] - 0s 3ms/step - loss: 0.1536 - accuracy: 1.0000\n",
            "Epoch 77/100\n",
            "3/3 [==============================] - 0s 3ms/step - loss: 0.1326 - accuracy: 0.9667\n",
            "Epoch 78/100\n",
            "3/3 [==============================] - 0s 3ms/step - loss: 0.1440 - accuracy: 0.9333\n",
            "Epoch 79/100\n",
            "3/3 [==============================] - 0s 3ms/step - loss: 0.1319 - accuracy: 0.9667\n",
            "Epoch 80/100\n",
            "3/3 [==============================] - 0s 3ms/step - loss: 0.1442 - accuracy: 0.9667\n",
            "Epoch 81/100\n",
            "3/3 [==============================] - 0s 3ms/step - loss: 0.1268 - accuracy: 0.9667\n",
            "Epoch 82/100\n",
            "3/3 [==============================] - 0s 4ms/step - loss: 0.1411 - accuracy: 0.9667\n",
            "Epoch 83/100\n",
            "3/3 [==============================] - 0s 3ms/step - loss: 0.1362 - accuracy: 0.9667\n",
            "Epoch 84/100\n",
            "3/3 [==============================] - 0s 4ms/step - loss: 0.1291 - accuracy: 0.9667\n",
            "Epoch 85/100\n",
            "3/3 [==============================] - 0s 4ms/step - loss: 0.1437 - accuracy: 0.9333\n",
            "Epoch 86/100\n",
            "3/3 [==============================] - 0s 6ms/step - loss: 0.1377 - accuracy: 0.9667\n",
            "Epoch 87/100\n",
            "3/3 [==============================] - 0s 5ms/step - loss: 0.1286 - accuracy: 0.9667\n",
            "Epoch 88/100\n",
            "3/3 [==============================] - 0s 4ms/step - loss: 0.1360 - accuracy: 0.9333\n",
            "Epoch 89/100\n",
            "3/3 [==============================] - 0s 4ms/step - loss: 0.1358 - accuracy: 0.9667\n",
            "Epoch 90/100\n",
            "3/3 [==============================] - 0s 9ms/step - loss: 0.1432 - accuracy: 0.9667\n",
            "Epoch 91/100\n",
            "3/3 [==============================] - 0s 3ms/step - loss: 0.1382 - accuracy: 0.9667\n",
            "Epoch 92/100\n",
            "3/3 [==============================] - 0s 5ms/step - loss: 0.1329 - accuracy: 0.9667\n",
            "Epoch 93/100\n",
            "3/3 [==============================] - 0s 3ms/step - loss: 0.1287 - accuracy: 0.9667\n",
            "Epoch 94/100\n",
            "3/3 [==============================] - 0s 5ms/step - loss: 0.1548 - accuracy: 0.9667\n",
            "Epoch 95/100\n",
            "3/3 [==============================] - 0s 4ms/step - loss: 0.1272 - accuracy: 0.9667\n",
            "Epoch 96/100\n",
            "3/3 [==============================] - 0s 4ms/step - loss: 0.1433 - accuracy: 0.9000\n",
            "Epoch 97/100\n",
            "3/3 [==============================] - 0s 4ms/step - loss: 0.1463 - accuracy: 0.9667\n",
            "Epoch 98/100\n",
            "3/3 [==============================] - 0s 4ms/step - loss: 0.1206 - accuracy: 1.0000\n",
            "Epoch 99/100\n",
            "3/3 [==============================] - 0s 4ms/step - loss: 0.1708 - accuracy: 0.9000\n",
            "Epoch 100/100\n",
            "3/3 [==============================] - 0s 3ms/step - loss: 0.1256 - accuracy: 0.9667\n"
          ]
        },
        {
          "output_type": "execute_result",
          "data": {
            "text/plain": [
              "<keras.callbacks.History at 0x7f787d1af1d0>"
            ]
          },
          "metadata": {},
          "execution_count": 31
        }
      ]
    },
    {
      "cell_type": "code",
      "metadata": {
        "colab": {
          "base_uri": "https://localhost:8080/"
        },
        "id": "fKhUa1EBmO5f",
        "outputId": "41e61edf-39ae-4e68-c45a-50b77712cad2"
      },
      "source": [
        "x_test = [(5,5), (3,8),(8,8), (7,5), (7,8), (6.8, 8)]\n",
        "\n",
        "print(model.predict(x_test))"
      ],
      "execution_count": 32,
      "outputs": [
        {
          "output_type": "stream",
          "name": "stdout",
          "text": [
            "[[0.00640216]\n",
            " [0.01692742]\n",
            " [0.84710884]\n",
            " [0.06093016]\n",
            " [0.6358352 ]\n",
            " [0.5808778 ]]\n"
          ]
        }
      ]
    },
    {
      "cell_type": "code",
      "metadata": {
        "colab": {
          "base_uri": "https://localhost:8080/"
        },
        "id": "Td-Qu9SNmCIR",
        "outputId": "13a24b88-07d5-430c-98b3-29b8d093120c"
      },
      "source": [
        "weights, biases = model.layers[0].get_weights()\n",
        "print(weights)\n",
        "print(biases)"
      ],
      "execution_count": 37,
      "outputs": [
        {
          "output_type": "stream",
          "name": "stdout",
          "text": [
            "[[1.1547703]\n",
            " [1.0974979]]\n",
            "[-16.306044]\n"
          ]
        }
      ]
    },
    {
      "cell_type": "code",
      "metadata": {
        "colab": {
          "base_uri": "https://localhost:8080/"
        },
        "id": "LYZaYHQZcIbs",
        "outputId": "324e7c2b-95e8-495f-caec-237e1476eda8"
      },
      "source": [
        "_, accuracy = model.evaluate(X, y)\n",
        "print('Accuracy: %.2f' % (accuracy*100))"
      ],
      "execution_count": 34,
      "outputs": [
        {
          "output_type": "stream",
          "name": "stdout",
          "text": [
            "1/1 [==============================] - 0s 117ms/step - loss: 0.1919 - accuracy: 0.9667\n",
            "Accuracy: 96.67\n"
          ]
        }
      ]
    },
    {
      "cell_type": "code",
      "metadata": {
        "id": "LD9cjlRYNnof",
        "outputId": "701fe81d-8170-482c-c145-3ff82c57f43c",
        "colab": {
          "base_uri": "https://localhost:8080/"
        }
      },
      "source": [
        "16/1.09"
      ],
      "execution_count": 35,
      "outputs": [
        {
          "output_type": "execute_result",
          "data": {
            "text/plain": [
              "14.678899082568806"
            ]
          },
          "metadata": {},
          "execution_count": 35
        }
      ]
    },
    {
      "cell_type": "code",
      "metadata": {
        "id": "fu_A1RhtQhgP",
        "outputId": "88345011-4cac-4e90-a6dd-155b0c82a053",
        "colab": {
          "base_uri": "https://localhost:8080/"
        }
      },
      "source": [
        "print(model.summary())"
      ],
      "execution_count": 36,
      "outputs": [
        {
          "output_type": "stream",
          "name": "stdout",
          "text": [
            "Model: \"sequential_5\"\n",
            "_________________________________________________________________\n",
            "Layer (type)                 Output Shape              Param #   \n",
            "=================================================================\n",
            "dense_5 (Dense)              (None, 1)                 3         \n",
            "=================================================================\n",
            "Total params: 3\n",
            "Trainable params: 3\n",
            "Non-trainable params: 0\n",
            "_________________________________________________________________\n",
            "None\n"
          ]
        }
      ]
    }
  ]
}